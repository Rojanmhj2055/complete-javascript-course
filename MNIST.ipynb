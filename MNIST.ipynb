{
  "nbformat": 4,
  "nbformat_minor": 0,
  "metadata": {
    "colab": {
      "name": "MNIST.ipynb",
      "provenance": [],
      "authorship_tag": "ABX9TyOtwU8Kg8cSn9n38l1TyCA7",
      "include_colab_link": true
    },
    "kernelspec": {
      "name": "python3",
      "display_name": "Python 3"
    }
  },
  "cells": [
    {
      "cell_type": "markdown",
      "metadata": {
        "id": "view-in-github",
        "colab_type": "text"
      },
      "source": [
        "<a href=\"https://colab.research.google.com/github/Rojanmhj2055/complete-javascript-course/blob/master/MNIST.ipynb\" target=\"_parent\"><img src=\"https://colab.research.google.com/assets/colab-badge.svg\" alt=\"Open In Colab\"/></a>"
      ]
    },
    {
      "cell_type": "code",
      "metadata": {
        "id": "j-5R2T_n7WkU",
        "outputId": "e43eef78-2ab7-4475-faf2-c4b9eb6a3ab2",
        "colab": {
          "base_uri": "https://localhost:8080/",
          "height": 121
        }
      },
      "source": [
        "!pip3 install torch torchvision"
      ],
      "execution_count": null,
      "outputs": [
        {
          "output_type": "stream",
          "text": [
            "Requirement already satisfied: torch in /usr/local/lib/python3.6/dist-packages (1.6.0+cu101)\n",
            "Requirement already satisfied: torchvision in /usr/local/lib/python3.6/dist-packages (0.7.0+cu101)\n",
            "Requirement already satisfied: numpy in /usr/local/lib/python3.6/dist-packages (from torch) (1.18.5)\n",
            "Requirement already satisfied: future in /usr/local/lib/python3.6/dist-packages (from torch) (0.16.0)\n",
            "Requirement already satisfied: pillow>=4.1.1 in /usr/local/lib/python3.6/dist-packages (from torchvision) (7.0.0)\n"
          ],
          "name": "stdout"
        }
      ]
    },
    {
      "cell_type": "code",
      "metadata": {
        "id": "gRGS8RU3fKq1"
      },
      "source": [
        "import torch \n",
        "from torchvision import datasets, transforms\n",
        "from torch import nn\n",
        "import torch.nn.functional as F\n",
        "import matplotlib.pyplot as plt\n",
        "import numpy as np\n"
      ],
      "execution_count": null,
      "outputs": []
    },
    {
      "cell_type": "code",
      "metadata": {
        "id": "O4n9mC7yf2Sg"
      },
      "source": [
        "transform =transforms.Compose([transforms.Resize((28,28)),\n",
        "                          transforms.ToTensor(),\n",
        "                              transforms.Normalize((0.5,),(0.5,)) ])\n",
        "training_dataset = datasets.MNIST(root=\"./data\",train=True,download=True,transform=transform)\n",
        "training_dataset\n",
        "validation_dataset = datasets.MNIST(root=\"./data\",train=False,download=True,transform=transform)\n",
        "training_loader = torch.utils.data.DataLoader(dataset=training_dataset,batch_size=100,shuffle=True)\n",
        "validation_loader = torch.utils.data.DataLoader(validation_dataset,batch_size=100,shuffle=False)\n"
      ],
      "execution_count": null,
      "outputs": []
    },
    {
      "cell_type": "code",
      "metadata": {
        "id": "sio9CbgkjvNt"
      },
      "source": [
        "def im_convert(tensor):\n",
        "  image = tensor.clone().detach().numpy()\n",
        "  image = image.transpose(1,2,0)\n",
        "  \n",
        "  image = image*np.array((0.5,0.5,0.5))+np.array((0.5,0.5,0.5))\n",
        "  image = image.clip(0,1)\n",
        "  return image\n"
      ],
      "execution_count": null,
      "outputs": []
    },
    {
      "cell_type": "code",
      "metadata": {
        "id": "TpaV6uYY61tw",
        "outputId": "84c8d4ba-8b99-48fb-c03a-26cde2d16f06",
        "colab": {
          "base_uri": "https://localhost:8080/",
          "height": 171
        }
      },
      "source": [
        "dataiter = iter(training_loader) \n",
        "images , labels = dataiter.next() \n",
        "fig = plt.figure(figsize=(25,4))\n",
        "\n",
        "for i in np.arange(20): \n",
        "  ax = fig.add_subplot(2,10,i+1)\n",
        "  plt.imshow(im_convert(images[i])) \n",
        "  ax.set_title([labels[i].item()])"
      ],
      "execution_count": null,
      "outputs": [
        {
          "output_type": "stream",
          "text": [
            "\n",
            "\n"
          ],
          "name": "stdout"
        },
        {
          "output_type": "display_data",
          "data": {
            "image/png": "[encoded data removed]",
            "text/plain": [
              "<Figure size 1800x288 with 20 Axes>"
            ]
          },
          "metadata": {
            "tags": [],
            "needs_background": "light"
          }
        }
      ]
    },
    {
      "cell_type": "code",
      "metadata": {
        "id": "y2SCnWFDQWr5"
      },
      "source": [
        ""
      ],
      "execution_count": null,
      "outputs": []
    },
    {
      "cell_type": "code",
      "metadata": {
        "id": "e-uUzTvFQWqM"
      },
      "source": [
        ""
      ],
      "execution_count": null,
      "outputs": []
    },
    {
      "cell_type": "code",
      "metadata": {
        "id": "YIT83NBkdxmr"
      },
      "source": [
        ""
      ],
      "execution_count": null,
      "outputs": []
    },
    {
      "cell_type": "code",
      "metadata": {
        "id": "NzoiUMScyLWt"
      },
      "source": [
        "class Classifier(nn.Module):\n",
        "  def __init__(self,D_in,H1,H2,D_out):\n",
        "    super().__init__()\n",
        "    self.Linear1 = nn.Linear(D_in,H1)\n",
        "    self.Linear2 = nn.Linear(H1,H2)\n",
        "    self.Linear3 = nn.Linear(H2,D_out)\n",
        "\n",
        "  def forward(self,x):\n",
        "    x = F.relu(self.Linear1(x))\n",
        "    x = F.relu(self.Linear2(x))\n",
        "    x = self.Linear3(x)\n",
        "    return x"
      ],
      "execution_count": null,
      "outputs": []
    },
    {
      "cell_type": "code",
      "metadata": {
        "id": "kV4z2FHZ1XPx",
        "outputId": "234afa44-7631-4298-8f3f-21ea0e17f482",
        "colab": {
          "base_uri": "https://localhost:8080/",
          "height": 101
        }
      },
      "source": [
        "model = Classifier(784,125,65,10)\n",
        "model"
      ],
      "execution_count": null,
      "outputs": [
        {
          "output_type": "execute_result",
          "data": {
            "text/plain": [
              "Classifier(\n",
              "  (Linear1): Linear(in_features=784, out_features=125, bias=True)\n",
              "  (Linear2): Linear(in_features=125, out_features=65, bias=True)\n",
              "  (Linear3): Linear(in_features=65, out_features=10, bias=True)\n",
              ")"
            ]
          },
          "metadata": {
            "tags": []
          },
          "execution_count": 10
        }
      ]
    },
    {
      "cell_type": "code",
      "metadata": {
        "id": "DJcSr5BL1yQZ",
        "outputId": "6482f3d6-3328-4457-e3af-59dca03b5ee4",
        "colab": {
          "base_uri": "https://localhost:8080/",
          "height": 622
        }
      },
      "source": [
        "criteration = nn.CrossEntropyLoss()\n",
        "optimizer = torch.optim.Adam(model.parameters(),lr=0.0001)\n",
        "epochs = 12\n",
        "running_loss_history =[]\n",
        "running_corrects_history=[]\n",
        "va_running_loss_history =[]\n",
        "val_running_loss_corrects=[]\n",
        "\n",
        "for e in range(epochs):\n",
        "  running_loss=0.0\n",
        "  running_corrects =0.0\n",
        "  val_running_loss =0.0\n",
        "  val_running_corrects = 0.0\n",
        "  for inputs ,labels in training_loader:\n",
        "    inputs = inputs.view(inputs.shape[0],-1)\n",
        "    outputs = model(inputs)  #has the buch of scores\n",
        "    #1 ,28 ,28inputs\n",
        "    loss = criteration(outputs,labels)\n",
        "    optimizer.zero_grad()\n",
        "    loss.backward()\n",
        "    optimizer.step()\n",
        "\n",
        "    _,preds = torch.max(outputs,1)  #yeid the maximum scores rreturns maxscore\n",
        "                                    #and the index of the maximum value\n",
        "    running_corrects+=torch.sum(preds == labels.data)\n",
        "    running_loss+=loss.item()\n",
        "  else:\n",
        "    with torch.no_grad():\n",
        "      for val_inputs,val_labels in validation_loader:\n",
        "        val_inputs = val_inputs.view(inputs.shape[0],-1)\n",
        "        val_outputs = model(val_inputs)  #has the buch of \n",
        "        val_loss = criteration(val_outputs,val_labels)\n",
        "        _,val_preds = torch.max(val_outputs,1)\n",
        "        val_running_loss+=val_loss.item()\n",
        "        val_running_corrects+=torch.sum(val_preds == val_labels)\n",
        "\n",
        "\n",
        "    epoch_loss = running_loss/len(training_loader)\n",
        "    epoch_acc  =running_corrects.float()/len(training_loader)\n",
        "    running_loss_history.append(epoch_loss)\n",
        "    running_corrects_history.append(epoch_acc)\n",
        "    val_epoch_loss = val_running_loss/len(validation_loader)\n",
        "    val_epoch_acc = val_running_corrects/len(validation_loader)\n",
        "    va_running_loss_history.append(val_epoch_loss)\n",
        "    val_running_loss_corrects.append(val_epoch_acc)\n",
        "    print('epoch:',e+1)\n",
        "    print('training Loss:{:.4f},Acc {:.4f}'.format(epoch_loss,epoch_acc.item()))\n",
        "    print('Validation loss:{:.4f}, validation acc {:.4f}'.format(val_epoch_loss,val_epoch_acc.item()))"
      ],
      "execution_count": null,
      "outputs": [
        {
          "output_type": "stream",
          "text": [
            "epoch: 1\n",
            "training Loss:0.1332,Acc 96.1100\n",
            "Validation loss:0.1386, validation acc 95.8400\n",
            "epoch: 2\n",
            "training Loss:0.1252,Acc 96.3717\n",
            "Validation loss:0.1315, validation acc 96.0600\n",
            "epoch: 3\n",
            "training Loss:0.1188,Acc 96.5783\n",
            "Validation loss:0.1297, validation acc 96.0100\n",
            "epoch: 4\n",
            "training Loss:0.1128,Acc 96.7067\n",
            "Validation loss:0.1260, validation acc 96.2500\n",
            "epoch: 5\n",
            "training Loss:0.1072,Acc 96.8167\n",
            "Validation loss:0.1247, validation acc 96.2800\n",
            "epoch: 6\n",
            "training Loss:0.1027,Acc 96.9567\n",
            "Validation loss:0.1154, validation acc 96.5400\n",
            "epoch: 7\n",
            "training Loss:0.0971,Acc 97.1583\n",
            "Validation loss:0.1099, validation acc 96.6000\n",
            "epoch: 8\n",
            "training Loss:0.0927,Acc 97.3100\n",
            "Validation loss:0.1088, validation acc 96.7000\n",
            "epoch: 9\n",
            "training Loss:0.0883,Acc 97.4283\n",
            "Validation loss:0.1051, validation acc 96.7700\n",
            "epoch: 10\n",
            "training Loss:0.0845,Acc 97.5550\n",
            "Validation loss:0.1050, validation acc 96.7900\n",
            "epoch: 11\n",
            "training Loss:0.0810,Acc 97.6550\n",
            "Validation loss:0.0988, validation acc 96.9700\n",
            "epoch: 12\n",
            "training Loss:0.0778,Acc 97.7383\n",
            "Validation loss:0.0961, validation acc 97.1600\n"
          ],
          "name": "stdout"
        }
      ]
    },
    {
      "cell_type": "code",
      "metadata": {
        "id": "rRbAGG3Q79_7",
        "outputId": "ae0b6e64-0db1-4085-eef0-20f057a86d41",
        "colab": {
          "base_uri": "https://localhost:8080/",
          "height": 54
        }
      },
      "source": [
        "print(running_corrects_history)"
      ],
      "execution_count": null,
      "outputs": [
        {
          "output_type": "stream",
          "text": [
            "[tensor(57666.), tensor(57823.), tensor(57947.), tensor(58024.), tensor(58090.), tensor(58174.), tensor(58295.), tensor(58386.), tensor(58457.), tensor(58533.), tensor(58593.), tensor(58643.)]\n"
          ],
          "name": "stdout"
        }
      ]
    },
    {
      "cell_type": "code",
      "metadata": {
        "id": "ympwNy5qGhbI",
        "outputId": "967732ef-e897-41f3-f209-8168b5ba411a",
        "colab": {
          "base_uri": "https://localhost:8080/",
          "height": 282
        }
      },
      "source": [
        "plt.plot(running_loss_history,label='trainning Loss')\n",
        "\n",
        "plt.plot(va_running_loss_history,label=\"validation Loss\")\n",
        "plt.legend()\n"
      ],
      "execution_count": null,
      "outputs": [
        {
          "output_type": "execute_result",
          "data": {
            "text/plain": [
              "<matplotlib.legend.Legend at 0x7f30849802b0>"
            ]
          },
          "metadata": {
            "tags": []
          },
          "execution_count": 17
        },
        {
          "output_type": "display_data",
          "data": {
            "image/png": "[encoded data removed]",
            "text/plain": [
              "<Figure size 432x288 with 1 Axes>"
            ]
          },
          "metadata": {
            "tags": [],
            "needs_background": "light"
          }
        }
      ]
    },
    {
      "cell_type": "code",
      "metadata": {
        "id": "YJW_CxZ37-x3",
        "outputId": "61a3a275-af4d-4d67-9ac7-9c48fd771e59",
        "colab": {
          "base_uri": "https://localhost:8080/",
          "height": 282
        }
      },
      "source": [
        "plt.plot(running_corrects_history, label=\"accuracy\") #mistake\n",
        "plt.plot(val_running_loss_corrects,label=\"val accuracy\")\n",
        "plt.legend()"
      ],
      "execution_count": null,
      "outputs": [
        {
          "output_type": "execute_result",
          "data": {
            "text/plain": [
              "<matplotlib.legend.Legend at 0x7f307c35c2e8>"
            ]
          },
          "metadata": {
            "tags": []
          },
          "execution_count": 21
        },
        {
          "output_type": "display_data",
          "data": {
            "image/png": "[encoded data removed]",
            "text/plain": [
              "<Figure size 432x288 with 1 Axes>"
            ]
          },
          "metadata": {
            "tags": [],
            "needs_background": "light"
          }
        }
      ]
    },
    {
      "cell_type": "code",
      "metadata": {
        "id": "hFHLeQCUWJ7a"
      },
      "source": [
        "import requests\n",
        "import PIL.ImageOps\n",
        "from PIL import Image\n",
        "url = \"https://images.homedepot-static.com/productImages/007164ea-d47e-4f66-8d8c-fd9f621984a2/svn/architectural-mailboxes-house-letters-numbers-3585b-5-64_1000.jpg\"\n",
        "response = requests.get(url,stream = True)\n",
        "img = Image.open(response.raw)\n",
        "\n"
      ],
      "execution_count": null,
      "outputs": []
    },
    {
      "cell_type": "code",
      "metadata": {
        "id": "D_eT0jvXWyNQ",
        "outputId": "fd4f3102-2143-4d11-bd04-aec77115c6a9",
        "colab": {
          "base_uri": "https://localhost:8080/",
          "height": 282
        }
      },
      "source": [
        "img = PIL.ImageOps.invert(img)\n",
        "img = img.convert('1')\n",
        "img = transform(img)\n",
        "plt.imshow(im_convert(img))\n"
      ],
      "execution_count": null,
      "outputs": [
        {
          "output_type": "execute_result",
          "data": {
            "text/plain": [
              "<matplotlib.image.AxesImage at 0x7f307c01eb00>"
            ]
          },
          "metadata": {
            "tags": []
          },
          "execution_count": 36
        },
        {
          "output_type": "display_data",
          "data": {
            "image/png": "[encoded data removed]",
            "text/plain": [
              "<Figure size 432x288 with 1 Axes>"
            ]
          },
          "metadata": {
            "tags": [],
            "needs_background": "light"
          }
        }
      ]
    },
    {
      "cell_type": "code",
      "metadata": {
        "id": "uGk03z3GdCiz",
        "outputId": "d6b71d64-fde7-400c-8786-38f145872d67",
        "colab": {
          "base_uri": "https://localhost:8080/",
          "height": 34
        }
      },
      "source": [
        "img = img.view(img.shape[0],-1)\n",
        "outputs = model(img)  #has the buch of \n",
        "        \n",
        "_,preds = torch.max(outputs,1)\n",
        "print(preds.item())"
      ],
      "execution_count": null,
      "outputs": [
        {
          "output_type": "stream",
          "text": [
            "5\n"
          ],
          "name": "stdout"
        }
      ]
    },
    {
      "cell_type": "code",
      "metadata": {
        "id": "kywQuQrndzgO",
        "outputId": "ffdbe8ba-a056-4f25-e097-5d564e5f999a",
        "colab": {
          "base_uri": "https://localhost:8080/",
          "height": 138
        }
      },
      "source": [
        "dataiter = iter(validation_loader) \n",
        "images , labels = dataiter.next() \n",
        "images_ = images.view(images.shape[0],-1)\n",
        "output = model(images_)\n",
        "_,preds = torch.max(output,1)\n",
        "fig = plt.figure(figsize=(25,4))\n",
        "\n",
        "for i in np.arange(20): \n",
        "  ax = fig.add_subplot(2,10,i+1)\n",
        "  plt.imshow(im_convert(images[i])) \n",
        "  ax.set_title(\"{} ({})\".format(str(preds[i].item()),str(labels[i].item())),color=(\"green\" if preds[i]==labels[i] else \"red\"))"
      ],
      "execution_count": null,
      "outputs": [
        {
          "output_type": "display_data",
          "data": {
            "image/png": "[encoded data removed]",
            "text/plain": [
              "<Figure size 1800x288 with 20 Axes>"
            ]
          },
          "metadata": {
            "tags": [],
            "needs_background": "light"
          }
        }
      ]
    }
  ]
}